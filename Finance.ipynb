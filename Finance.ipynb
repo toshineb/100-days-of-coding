{
  "nbformat": 4,
  "nbformat_minor": 0,
  "metadata": {
    "colab": {
      "provenance": [],
      "authorship_tag": "ABX9TyM4NZAA3VqcPv++e+AE78SM",
      "include_colab_link": true
    },
    "kernelspec": {
      "name": "python3",
      "display_name": "Python 3"
    },
    "language_info": {
      "name": "python"
    }
  },
  "cells": [
    {
      "cell_type": "markdown",
      "metadata": {
        "id": "view-in-github",
        "colab_type": "text"
      },
      "source": [
        "<a href=\"https://colab.research.google.com/github/toshineb/100-days-of-web-development/blob/main/Finance.ipynb\" target=\"_parent\"><img src=\"https://colab.research.google.com/assets/colab-badge.svg\" alt=\"Open In Colab\"/></a>"
      ]
    },
    {
      "cell_type": "code",
      "execution_count": null,
      "metadata": {
        "id": "OPPuaGghISaV"
      },
      "outputs": [],
      "source": [
        "def calculate_discount(age, is_student, total_purchase, is_tuesday):\n",
        "    discount_eligible = (age >= 65 or is_student) and total_purchase > 50\n",
        "    final_price = total_purchase\n",
        "\n",
        "    if discount_eligible and is_tuesday:\n",
        "        final_price *= 0.95  # Apply an additional 5% discount\n",
        "\n",
        "    return discount_eligible, final_price"
      ]
    },
    {
      "cell_type": "code",
      "source": [
        "# Test the function\n",
        "age = 70\n",
        "is_student = False\n",
        "total_purchase = 60\n",
        "is_tuesday = True\n",
        "\n",
        "eligible, final_price = calculate_discount(age, is_student, total_purchase, is_tuesday)\n",
        "print(f\"Discount Eligible: {eligible}\")\n",
        "print(f\"Final Price: ${final_price:.2f}\")"
      ],
      "metadata": {
        "colab": {
          "base_uri": "https://localhost:8080/"
        },
        "id": "OFIFEaCoIW03",
        "outputId": "e865cae4-81e1-4319-fa9e-75dd9f527a05"
      },
      "execution_count": null,
      "outputs": [
        {
          "output_type": "stream",
          "name": "stdout",
          "text": [
            "Discount Eligible: True\n",
            "Final Price: $57.00\n"
          ]
        }
      ]
    },
    {
      "cell_type": "code",
      "source": [
        "# Test the function\n",
        "age = 30\n",
        "is_student = False\n",
        "total_purchase = 60\n",
        "is_tuesday = True\n",
        "\n",
        "eligible, final_price = calculate_discount(age, is_student, total_purchase, is_tuesday)\n",
        "print(f\"Discount Eligible: {eligible}\")\n",
        "print(f\"Final Price: ${final_price:.2f}\")"
      ],
      "metadata": {
        "colab": {
          "base_uri": "https://localhost:8080/"
        },
        "id": "aNXPqFVgIfJ6",
        "outputId": "c1571360-4ed6-48f6-f1c5-456a413eb26f"
      },
      "execution_count": null,
      "outputs": [
        {
          "output_type": "stream",
          "name": "stdout",
          "text": [
            "Discount Eligible: False\n",
            "Final Price: $60.00\n"
          ]
        }
      ]
    },
    {
      "cell_type": "code",
      "source": [
        "import numpy as np\n",
        "import pandas as pd"
      ],
      "metadata": {
        "id": "zDkOs5suIhwa"
      },
      "execution_count": null,
      "outputs": []
    },
    {
      "cell_type": "code",
      "source": [
        "initial_investment = 100000  # $100,000\n",
        "cash_flows = [30000, 35000, 40000, 45000, 50000]  # cash inflows for each year\n",
        "discount_rate = 0.12  # 12% discount rate"
      ],
      "metadata": {
        "id": "Mq4g38_DNT_A"
      },
      "execution_count": null,
      "outputs": []
    },
    {
      "cell_type": "markdown",
      "source": [
        "Calculate Net Present Value (NPV)\n",
        "NPV is the difference between the present value of cash inflows and the initial investment.\n"
      ],
      "metadata": {
        "id": "bzUetikyNbWR"
      }
    },
    {
      "cell_type": "code",
      "source": [
        "def calculate_npv(initial_investment, cash_flows, discount_rate):\n",
        "    npv = -initial_investment\n",
        "    for t, cash_flow in enumerate(cash_flows, start=1):\n",
        "        npv += cash_flow / (1 + discount_rate) ** t\n",
        "    return npv\n",
        "\n",
        "npv = calculate_npv(initial_investment, cash_flows, discount_rate)\n",
        "print(f\"Net Present Value (NPV): ${npv:.2f}\")"
      ],
      "metadata": {
        "colab": {
          "base_uri": "https://localhost:8080/"
        },
        "id": "I1I-24b_NW_S",
        "outputId": "3871e59b-c343-4344-c248-175c68176736"
      },
      "execution_count": null,
      "outputs": [
        {
          "output_type": "stream",
          "name": "stdout",
          "text": [
            "Net Present Value (NPV): $40128.37\n"
          ]
        }
      ]
    },
    {
      "cell_type": "code",
      "source": [
        "!pip install numpy-financial"
      ],
      "metadata": {
        "colab": {
          "base_uri": "https://localhost:8080/"
        },
        "id": "JGPNlV0tOzIK",
        "outputId": "3a8a970d-f2af-4bd7-cc4c-74c5e18e410c"
      },
      "execution_count": null,
      "outputs": [
        {
          "output_type": "stream",
          "name": "stdout",
          "text": [
            "Collecting numpy-financial\n",
            "  Downloading numpy_financial-1.0.0-py3-none-any.whl.metadata (2.2 kB)\n",
            "Requirement already satisfied: numpy>=1.15 in /usr/local/lib/python3.10/dist-packages (from numpy-financial) (1.26.4)\n",
            "Downloading numpy_financial-1.0.0-py3-none-any.whl (14 kB)\n",
            "Installing collected packages: numpy-financial\n",
            "Successfully installed numpy-financial-1.0.0\n"
          ]
        }
      ]
    },
    {
      "cell_type": "code",
      "source": [
        "import numpy_financial as npf\n",
        "\n",
        "def calculate_irr(initial_investment, cash_flows):\n",
        "    full_cash_flows = [-initial_investment] + cash_flows\n",
        "    irr = npf.irr(full_cash_flows)\n",
        "    return irr\n",
        "\n",
        "irr = calculate_irr(initial_investment, cash_flows)\n",
        "print(f\"Internal Rate of Return (IRR): {irr*100:.2f}%\")"
      ],
      "metadata": {
        "colab": {
          "base_uri": "https://localhost:8080/"
        },
        "id": "-wVrIjcTNqxS",
        "outputId": "b420e925-a603-430a-a43d-3df6632efc03"
      },
      "execution_count": null,
      "outputs": [
        {
          "output_type": "stream",
          "name": "stdout",
          "text": [
            "Internal Rate of Return (IRR): 25.75%\n"
          ]
        }
      ]
    },
    {
      "cell_type": "code",
      "source": [
        "def calculate_payback_period(initial_investment, cash_flows):\n",
        "    cumulative_cash_flow = 0\n",
        "    for year, cash_flow in enumerate(cash_flows, start=1):\n",
        "        cumulative_cash_flow += cash_flow\n",
        "        if cumulative_cash_flow >= initial_investment:\n",
        "            return year + (initial_investment - (cumulative_cash_flow - cash_flow)) / cash_flow\n",
        "\n",
        "payback_period = calculate_payback_period(initial_investment, cash_flows)\n",
        "print(f\"Payback Period: {payback_period:.2f} years\")"
      ],
      "metadata": {
        "colab": {
          "base_uri": "https://localhost:8080/"
        },
        "id": "Smp1zOgAN8Kl",
        "outputId": "855a74b4-44f5-4c3e-8831-8a0b759dc991"
      },
      "execution_count": null,
      "outputs": [
        {
          "output_type": "stream",
          "name": "stdout",
          "text": [
            "Payback Period: 3.88 years\n"
          ]
        }
      ]
    },
    {
      "cell_type": "code",
      "source": [
        "def calculate_profitability_index(initial_investment, cash_flows, discount_rate):\n",
        "    present_value_of_cash_flows = sum([cf / (1 + discount_rate) ** t for t, cf in enumerate(cash_flows, start=1)])\n",
        "    return present_value_of_cash_flows / initial_investment\n",
        "\n",
        "pi = calculate_profitability_index(initial_investment, cash_flows, discount_rate)\n",
        "print(f\"Profitability Index (PI): {pi:.2f}\")"
      ],
      "metadata": {
        "colab": {
          "base_uri": "https://localhost:8080/"
        },
        "id": "0zXSlJ1PPMhk",
        "outputId": "d09b6f5e-2324-4086-87ff-1a4c36d9443f"
      },
      "execution_count": null,
      "outputs": [
        {
          "output_type": "stream",
          "name": "stdout",
          "text": [
            "Profitability Index (PI): 1.40\n"
          ]
        }
      ]
    },
    {
      "cell_type": "code",
      "source": [
        "print(f\"Investment Appraisal Summary:\")\n",
        "print(f\"NPV: ${npv:.2f}\")\n",
        "print(f\"IRR: {irr*100:.2f}%\")\n",
        "print(f\"Payback Period: {payback_period:.2f} years\")\n",
        "print(f\"Profitability Index: {pi:.2f}\")"
      ],
      "metadata": {
        "colab": {
          "base_uri": "https://localhost:8080/"
        },
        "id": "roK3O3kCPc5p",
        "outputId": "c27313a6-3415-4520-c8a8-29cc6f11536f"
      },
      "execution_count": null,
      "outputs": [
        {
          "output_type": "stream",
          "name": "stdout",
          "text": [
            "Investment Appraisal Summary:\n",
            "NPV: $40128.37\n",
            "IRR: 25.75%\n",
            "Payback Period: 3.88 years\n",
            "Profitability Index: 1.40\n"
          ]
        }
      ]
    },
    {
      "cell_type": "code",
      "source": [
        "revenue = 500000       # $500,000 revenue\n",
        "cost_of_goods_sold = 300000  # $300,000 cost of goods sold\n",
        "operating_expenses = 50000   # $50,000 operating expenses\n",
        "net_income = 80000     # $80,000 net income\n",
        "total_assets = 600000  # $600,000 total assets\n",
        "equity = 400000        # $400,000 equity\n",
        "investment_amount = 150000  # $150,000 initial investment\n",
        "last_year_revenue = 450000   # $450,000 last year revenue\n",
        "current_cash_flow = 100000   # $100,000 current cash flow"
      ],
      "metadata": {
        "id": "EGlf5y7ePhST"
      },
      "execution_count": null,
      "outputs": []
    },
    {
      "cell_type": "code",
      "source": [
        "def calculate_roi(net_profit, investment_amount):\n",
        "    roi = (net_profit / investment_amount) * 100\n",
        "    return roi\n",
        "\n",
        "net_profit = revenue - cost_of_goods_sold - operating_expenses  # Calculating net profit\n",
        "roi = calculate_roi(net_profit, investment_amount)\n",
        "print(f\"Return on Investment (ROI): {roi:.2f}%\")"
      ],
      "metadata": {
        "colab": {
          "base_uri": "https://localhost:8080/"
        },
        "id": "GrvhWEkCRyMx",
        "outputId": "0d30b357-bcd3-4325-bbe9-d24ca6241e74"
      },
      "execution_count": null,
      "outputs": [
        {
          "output_type": "stream",
          "name": "stdout",
          "text": [
            "Return on Investment (ROI): 100.00%\n"
          ]
        }
      ]
    },
    {
      "cell_type": "code",
      "source": [
        "def calculate_roe(net_income, equity):\n",
        "    roe = (net_income / equity) * 100\n",
        "    return roe\n",
        "\n",
        "roe = calculate_roe(net_income, equity)\n",
        "print(f\"Return on Equity (ROE): {roe:.2f}%\")\n"
      ],
      "metadata": {
        "colab": {
          "base_uri": "https://localhost:8080/"
        },
        "id": "uBvrjVOoR1U4",
        "outputId": "2c3fb6d3-4653-4d13-d444-0c886973a283"
      },
      "execution_count": null,
      "outputs": [
        {
          "output_type": "stream",
          "name": "stdout",
          "text": [
            "Return on Equity (ROE): 20.00%\n"
          ]
        }
      ]
    },
    {
      "cell_type": "code",
      "source": [
        "def calculate_growth_rate(current_revenue, last_year_revenue):\n",
        "    growth_rate = ((current_revenue - last_year_revenue) / last_year_revenue) * 100\n",
        "    return growth_rate\n",
        "\n",
        "revenue_growth_rate = calculate_growth_rate(revenue, last_year_revenue)\n",
        "print(f\"Revenue Growth Rate: {revenue_growth_rate:.2f}%\")"
      ],
      "metadata": {
        "colab": {
          "base_uri": "https://localhost:8080/"
        },
        "id": "nM-B1wCFSg_G",
        "outputId": "5da450e8-a4c2-4ae3-b372-ffeb4478d884"
      },
      "execution_count": null,
      "outputs": [
        {
          "output_type": "stream",
          "name": "stdout",
          "text": [
            "Revenue Growth Rate: 11.11%\n"
          ]
        }
      ]
    },
    {
      "cell_type": "code",
      "source": [
        "def calculate_gross_profit_margin(revenue, cost_of_goods_sold):\n",
        "    gross_profit_margin = ((revenue - cost_of_goods_sold) / revenue) * 100\n",
        "    return gross_profit_margin\n",
        "\n",
        "gross_profit_margin = calculate_gross_profit_margin(revenue, cost_of_goods_sold)\n",
        "print(f\"Gross Profit Margin: {gross_profit_margin:.2f}%\")"
      ],
      "metadata": {
        "colab": {
          "base_uri": "https://localhost:8080/"
        },
        "id": "FbJ6USPCSlks",
        "outputId": "3e9fcc77-9e7a-4d24-b6b3-5b71a3333a5b"
      },
      "execution_count": null,
      "outputs": [
        {
          "output_type": "stream",
          "name": "stdout",
          "text": [
            "Gross Profit Margin: 40.00%\n"
          ]
        }
      ]
    },
    {
      "cell_type": "code",
      "source": [
        "def calculate_operating_profit_margin(revenue, cost_of_goods_sold, operating_expenses):\n",
        "    operating_income = revenue - cost_of_goods_sold - operating_expenses\n",
        "    operating_margin = (operating_income / revenue) * 100\n",
        "    return operating_margin\n",
        "\n",
        "operating_margin = calculate_operating_profit_margin(revenue, cost_of_goods_sold, operating_expenses)\n",
        "print(f\"Operating Profit Margin: {operating_margin:.2f}%\")"
      ],
      "metadata": {
        "colab": {
          "base_uri": "https://localhost:8080/"
        },
        "id": "SdN9j2XwSo8z",
        "outputId": "ed9aacac-e643-4e96-9782-ebb2a391d4ee"
      },
      "execution_count": null,
      "outputs": [
        {
          "output_type": "stream",
          "name": "stdout",
          "text": [
            "Operating Profit Margin: 30.00%\n"
          ]
        }
      ]
    },
    {
      "cell_type": "code",
      "source": [
        "total_liabilities = 200000  # Example data for total liabilities\n",
        "\n",
        "def calculate_debt_to_equity(total_liabilities, equity):\n",
        "    debt_to_equity_ratio = total_liabilities / equity\n",
        "    return debt_to_equity_ratio\n",
        "\n",
        "debt_to_equity = calculate_debt_to_equity(total_liabilities, equity)\n",
        "print(f\"Debt-to-Equity Ratio: {debt_to_equity:.2f}\")"
      ],
      "metadata": {
        "colab": {
          "base_uri": "https://localhost:8080/"
        },
        "id": "fCmYGpSjSsDE",
        "outputId": "30b65784-aaf7-4064-e819-3c43061243a1"
      },
      "execution_count": null,
      "outputs": [
        {
          "output_type": "stream",
          "name": "stdout",
          "text": [
            "Debt-to-Equity Ratio: 0.50\n"
          ]
        }
      ]
    },
    {
      "cell_type": "code",
      "source": [
        "def calculate_cash_flow_to_debt(cash_flow, total_liabilities):\n",
        "    cash_flow_to_debt_ratio = cash_flow / total_liabilities\n",
        "    return cash_flow_to_debt_ratio\n",
        "\n",
        "cash_flow_to_debt = calculate_cash_flow_to_debt(current_cash_flow, total_liabilities)\n",
        "print(f\"Cash Flow-to-Debt Ratio: {cash_flow_to_debt:.2f}\")"
      ],
      "metadata": {
        "colab": {
          "base_uri": "https://localhost:8080/"
        },
        "id": "skbDRqCFSv4U",
        "outputId": "311e54ee-d97c-4f5b-a04a-63ba392ddd80"
      },
      "execution_count": null,
      "outputs": [
        {
          "output_type": "stream",
          "name": "stdout",
          "text": [
            "Cash Flow-to-Debt Ratio: 0.50\n"
          ]
        }
      ]
    },
    {
      "cell_type": "code",
      "source": [
        "print(\"Financial Metrics Summary:\")\n",
        "print(f\"ROI: {roi:.2f}%\")\n",
        "print(f\"ROE: {roe:.2f}%\")\n",
        "print(f\"Revenue Growth Rate: {revenue_growth_rate:.2f}%\")\n",
        "print(f\"Gross Profit Margin: {gross_profit_margin:.2f}%\")\n",
        "print(f\"Operating Profit Margin: {operating_margin:.2f}%\")\n",
        "print(f\"Debt-to-Equity Ratio: {debt_to_equity:.2f}\")\n",
        "print(f\"Cash Flow-to-Debt Ratio: {cash_flow_to_debt:.2f}\")"
      ],
      "metadata": {
        "colab": {
          "base_uri": "https://localhost:8080/"
        },
        "id": "2tqQjfaGS0DT",
        "outputId": "f9bc8b61-9c85-452d-a89e-cb811c2ea140"
      },
      "execution_count": null,
      "outputs": [
        {
          "output_type": "stream",
          "name": "stdout",
          "text": [
            "Financial Metrics Summary:\n",
            "ROI: 100.00%\n",
            "ROE: 20.00%\n",
            "Revenue Growth Rate: 11.11%\n",
            "Gross Profit Margin: 40.00%\n",
            "Operating Profit Margin: 30.00%\n",
            "Debt-to-Equity Ratio: 0.50\n",
            "Cash Flow-to-Debt Ratio: 0.50\n"
          ]
        }
      ]
    },
    {
      "cell_type": "code",
      "source": [
        "assumptions = {\n",
        "    'initial_revenue': 1000000,      # $1,000,000 initial revenue\n",
        "    'revenue_growth_rate': 0.05,     # 5% revenue growth per year\n",
        "    'cogs_percent': 0.40,            # COGS is 40% of revenue\n",
        "    'operating_exp_percent': 0.15,   # Operating expenses 15% of revenue\n",
        "    'depreciation': 50000,           # $50,000 annual depreciation\n",
        "    'tax_rate': 0.25,                # 25% tax rate\n",
        "    'capex': 100000,                 # $100,000 annual capital expenditure\n",
        "    'working_capital': 20000,        # $20,000 working capital\n",
        "    'discount_rate': 0.10,           # 10% discount rate for DCF\n",
        "    'debt': 500000,                  # $500,000 debt\n",
        "    'interest_rate': 0.05            # 5% interest rate on debt\n",
        "}"
      ],
      "metadata": {
        "id": "G4r560x5S8lU"
      },
      "execution_count": null,
      "outputs": []
    },
    {
      "cell_type": "code",
      "source": [
        "def forecast_revenue_and_costs(initial_revenue, growth_rate, cogs_percent, op_exp_percent, years):\n",
        "    revenues = []\n",
        "    cogs_list = []\n",
        "    op_exp_list = []\n",
        "\n",
        "    revenue = initial_revenue\n",
        "    for year in range(years):\n",
        "        revenue = revenue * (1 + growth_rate)\n",
        "        cogs = revenue * cogs_percent\n",
        "        op_exp = revenue * op_exp_percent\n",
        "\n",
        "        revenues.append(revenue)\n",
        "        cogs_list.append(cogs)\n",
        "        op_exp_list.append(op_exp)\n",
        "\n",
        "    return revenues, cogs_list, op_exp_list\n",
        "\n",
        "revenue, cogs, operating_expenses = forecast_revenue_and_costs(\n",
        "    assumptions['initial_revenue'], assumptions['revenue_growth_rate'],\n",
        "    assumptions['cogs_percent'], assumptions['operating_exp_percent'], 5)\n",
        "\n",
        "print(\"Revenue Forecast:\", revenue)"
      ],
      "metadata": {
        "colab": {
          "base_uri": "https://localhost:8080/"
        },
        "id": "VWHGa0rIXZZ6",
        "outputId": "0101842a-7ebf-4d3e-f57f-5af1f743475e"
      },
      "execution_count": null,
      "outputs": [
        {
          "output_type": "stream",
          "name": "stdout",
          "text": [
            "Revenue Forecast: [1050000.0, 1102500.0, 1157625.0, 1215506.25, 1276281.5625]\n"
          ]
        }
      ]
    },
    {
      "cell_type": "code",
      "source": [
        "def calculate_pnl(revenues, cogs_list, op_exp_list, depreciation, tax_rate):\n",
        "    gross_profits = []\n",
        "    op_profits = []\n",
        "    net_incomes = []\n",
        "\n",
        "    for revenue, cogs, op_exp in zip(revenues, cogs_list, op_exp_list):\n",
        "        gross_profit = revenue - cogs\n",
        "        op_profit = gross_profit - op_exp\n",
        "        net_income = (op_profit - depreciation) * (1 - tax_rate)\n",
        "\n",
        "        gross_profits.append(gross_profit)\n",
        "        op_profits.append(op_profit)\n",
        "        net_incomes.append(net_income)\n",
        "\n",
        "    return gross_profits, op_profits, net_incomes\n",
        "\n",
        "gross_profit, op_profit, net_income = calculate_pnl(\n",
        "    revenue, cogs, operating_expenses, assumptions['depreciation'], assumptions['tax_rate'])\n",
        "\n",
        "print(\"Net Income Forecast:\", net_income)"
      ],
      "metadata": {
        "colab": {
          "base_uri": "https://localhost:8080/"
        },
        "id": "tFIzoFb9XdN8",
        "outputId": "1cf582ad-8d07-4b81-c7ae-0fdef57912eb"
      },
      "execution_count": null,
      "outputs": [
        {
          "output_type": "stream",
          "name": "stdout",
          "text": [
            "Net Income Forecast: [316875.0, 334593.75, 353198.4375, 372733.359375, 393245.02734375]\n"
          ]
        }
      ]
    },
    {
      "cell_type": "code",
      "source": [
        "def calculate_fcf(net_incomes, depreciation, capex, working_capital):\n",
        "    fcfs = []\n",
        "    for net_income in net_incomes:\n",
        "        fcf = net_income + depreciation - capex - working_capital\n",
        "        fcfs.append(fcf)\n",
        "    return fcfs\n",
        "\n",
        "fcf = calculate_fcf(net_income, assumptions['depreciation'], assumptions['capex'], assumptions['working_capital'])\n",
        "print(\"Free Cash Flow Forecast:\", fcf)"
      ],
      "metadata": {
        "colab": {
          "base_uri": "https://localhost:8080/"
        },
        "id": "-nOPgCoHXiXN",
        "outputId": "27bfafac-c12c-488c-c32e-1d39ecd8257f"
      },
      "execution_count": null,
      "outputs": [
        {
          "output_type": "stream",
          "name": "stdout",
          "text": [
            "Free Cash Flow Forecast: [246875.0, 264593.75, 283198.4375, 302733.359375, 323245.02734375]\n"
          ]
        }
      ]
    },
    {
      "cell_type": "code",
      "source": [
        "def calculate_dcf(fcf, discount_rate):\n",
        "    dcf = sum([cf / (1 + discount_rate) ** i for i, cf in enumerate(fcf, start=1)])\n",
        "    return dcf\n",
        "\n",
        "dcf_value = calculate_dcf(fcf, assumptions['discount_rate'])\n",
        "print(f\"DCF Valuation: ${dcf_value:.2f}\")"
      ],
      "metadata": {
        "colab": {
          "base_uri": "https://localhost:8080/"
        },
        "id": "l1LdHyCXXngr",
        "outputId": "63d6ccad-7841-464d-d424-d10a13080b08"
      },
      "execution_count": null,
      "outputs": [
        {
          "output_type": "stream",
          "name": "stdout",
          "text": [
            "DCF Valuation: $1063356.20\n"
          ]
        }
      ]
    },
    {
      "cell_type": "code",
      "source": [
        "def calculate_interest_expense(debt, interest_rate):\n",
        "    return debt * interest_rate\n",
        "\n",
        "interest_expense = calculate_interest_expense(assumptions['debt'], assumptions['interest_rate'])\n",
        "print(f\"Interest Expense: ${interest_expense:.2f}\")"
      ],
      "metadata": {
        "colab": {
          "base_uri": "https://localhost:8080/"
        },
        "id": "TkUZtflTXqdW",
        "outputId": "9673e36d-14ab-45dd-99a3-313bc4c4474d"
      },
      "execution_count": null,
      "outputs": [
        {
          "output_type": "stream",
          "name": "stdout",
          "text": [
            "Interest Expense: $25000.00\n"
          ]
        }
      ]
    },
    {
      "cell_type": "code",
      "source": [
        "def sensitivity_analysis(fcf, discount_rates):\n",
        "    for rate in discount_rates:\n",
        "        dcf_value = calculate_dcf(fcf, rate)\n",
        "        print(f\"DCF at {rate*100}% Discount Rate: ${dcf_value:.2f}\")\n",
        "\n",
        "sensitivity_analysis(fcf, [0.08, 0.10, 0.12])  # Test with 8%, 10%, 12% discount rates"
      ],
      "metadata": {
        "colab": {
          "base_uri": "https://localhost:8080/"
        },
        "id": "Iu96mhKBXwqf",
        "outputId": "74ccbc4b-b4ba-4f9f-f56e-17015b40520e"
      },
      "execution_count": null,
      "outputs": [
        {
          "output_type": "stream",
          "name": "stdout",
          "text": [
            "DCF at 8.0% Discount Rate: $1122759.70\n",
            "DCF at 10.0% Discount Rate: $1063356.20\n",
            "DCF at 12.0% Discount Rate: $1008742.11\n"
          ]
        }
      ]
    },
    {
      "cell_type": "code",
      "source": [
        "df = pd.DataFrame({\n",
        "    'Year': list(range(1, 6)),\n",
        "    'Revenue': revenue,\n",
        "    'COGS': cogs,\n",
        "    'Operating Expenses': operating_expenses,\n",
        "    'Net Income': net_income,\n",
        "    'Free Cash Flow': fcf\n",
        "})\n",
        "\n",
        "print(df)"
      ],
      "metadata": {
        "colab": {
          "base_uri": "https://localhost:8080/"
        },
        "id": "0ghNUoywX3VZ",
        "outputId": "8e889df1-5963-46f2-feb4-2ad1977f05a8"
      },
      "execution_count": null,
      "outputs": [
        {
          "output_type": "stream",
          "name": "stdout",
          "text": [
            "   Year       Revenue        COGS  Operating Expenses     Net Income  \\\n",
            "0     1  1.050000e+06  420000.000       157500.000000  316875.000000   \n",
            "1     2  1.102500e+06  441000.000       165375.000000  334593.750000   \n",
            "2     3  1.157625e+06  463050.000       173643.750000  353198.437500   \n",
            "3     4  1.215506e+06  486202.500       182325.937500  372733.359375   \n",
            "4     5  1.276282e+06  510512.625       191442.234375  393245.027344   \n",
            "\n",
            "   Free Cash Flow  \n",
            "0   246875.000000  \n",
            "1   264593.750000  \n",
            "2   283198.437500  \n",
            "3   302733.359375  \n",
            "4   323245.027344  \n"
          ]
        }
      ]
    },
    {
      "cell_type": "code",
      "source": [],
      "metadata": {
        "id": "3t1AzwH8X-PK"
      },
      "execution_count": null,
      "outputs": []
    },
    {
      "cell_type": "markdown",
      "source": [],
      "metadata": {
        "id": "Jg7ZX0K-ZT7c"
      }
    },
    {
      "cell_type": "code",
      "source": [
        "assumptions = {\n",
        "    'initial_revenue': 1500000,       # $1,500,000 initial revenue\n",
        "    'revenue_growth_rate': 0.06,      # 6% revenue growth per year\n",
        "    'cogs_percent': 0.45,             # COGS is 45% of revenue\n",
        "    'operating_exp_percent': 0.18,    # Operating expenses 18% of revenue\n",
        "    'depreciation': 80000,            # $80,000 annual depreciation\n",
        "    'tax_rate': 0.28,                 # 28% tax rate\n",
        "    'capex': 120000,                  # $120,000 annual capital expenditure\n",
        "    'working_capital': 25000,         # $25,000 working capital\n",
        "    'debt': 600000,                   # $600,000 debt\n",
        "    'equity': 400000,                 # $400,000 equity\n",
        "    'cost_of_debt': 0.05,             # 5% cost of debt\n",
        "    'cost_of_equity': 0.12,           # 12% cost of equity\n",
        "    'debt_to_equity_ratio': 0.6       # Debt to equity ratio for WACC\n",
        "}"
      ],
      "metadata": {
        "id": "p2wKsPpEZy8t"
      },
      "execution_count": null,
      "outputs": []
    },
    {
      "cell_type": "code",
      "source": [
        "def calculate_wacc(debt, equity, cost_of_debt, cost_of_equity, tax_rate):\n",
        "    total_value = debt + equity\n",
        "    wacc = (debt / total_value) * cost_of_debt * (1 - tax_rate) + (equity / total_value) * cost_of_equity\n",
        "    return wacc\n",
        "\n",
        "wacc = calculate_wacc(\n",
        "    assumptions['debt'], assumptions['equity'],\n",
        "    assumptions['cost_of_debt'], assumptions['cost_of_equity'],\n",
        "    assumptions['tax_rate'])\n",
        "\n",
        "print(f\"WACC: {wacc:.4f}\")"
      ],
      "metadata": {
        "colab": {
          "base_uri": "https://localhost:8080/"
        },
        "id": "dqrHlsZQZUc6",
        "outputId": "f6d2d62f-9c6a-4b6a-91cf-b265b97302b8"
      },
      "execution_count": null,
      "outputs": [
        {
          "output_type": "stream",
          "name": "stdout",
          "text": [
            "WACC: 0.0696\n"
          ]
        }
      ]
    },
    {
      "cell_type": "code",
      "source": [
        "def forecast_revenue_and_costs(initial_revenue, growth_rate, cogs_percent, op_exp_percent, years):\n",
        "    revenues = []\n",
        "    cogs_list = []\n",
        "    op_exp_list = []\n",
        "\n",
        "    revenue = initial_revenue\n",
        "    for year in range(years):\n",
        "        revenue = revenue * (1 + growth_rate)\n",
        "        cogs = revenue * cogs_percent\n",
        "        op_exp = revenue * op_exp_percent\n",
        "\n",
        "        revenues.append(revenue)\n",
        "        cogs_list.append(cogs)\n",
        "        op_exp_list.append(op_exp)\n",
        "\n",
        "    return revenues, cogs_list, op_exp_list\n",
        "\n",
        "revenue, cogs, operating_expenses = forecast_revenue_and_costs(\n",
        "    assumptions['initial_revenue'], assumptions['revenue_growth_rate'],\n",
        "    assumptions['cogs_percent'], assumptions['operating_exp_percent'], 5)\n",
        "\n",
        "print(\"Revenue Forecast:\", revenue)"
      ],
      "metadata": {
        "colab": {
          "base_uri": "https://localhost:8080/"
        },
        "id": "wwArFgtbZVfa",
        "outputId": "32a564ac-45ee-4b32-9d9c-6ff229725af8"
      },
      "execution_count": null,
      "outputs": [
        {
          "output_type": "stream",
          "name": "stdout",
          "text": [
            "Revenue Forecast: [1590000.0, 1685400.0, 1786524.0, 1893715.4400000002, 2007338.3664000002]\n"
          ]
        }
      ]
    },
    {
      "cell_type": "code",
      "source": [
        "def calculate_pnl(revenues, cogs_list, op_exp_list, depreciation, tax_rate):\n",
        "    gross_profits = []\n",
        "    op_profits = []\n",
        "    net_incomes = []\n",
        "\n",
        "    for revenue, cogs, op_exp in zip(revenues, cogs_list, op_exp_list):\n",
        "        gross_profit = revenue - cogs\n",
        "        op_profit = gross_profit - op_exp\n",
        "        net_income = (op_profit - depreciation) * (1 - tax_rate)\n",
        "\n",
        "        gross_profits.append(gross_profit)\n",
        "        op_profits.append(op_profit)\n",
        "        net_incomes.append(net_income)\n",
        "\n",
        "    return gross_profits, op_profits, net_incomes\n",
        "\n",
        "gross_profit, op_profit, net_income = calculate_pnl(\n",
        "    revenue, cogs, operating_expenses, assumptions['depreciation'], assumptions['tax_rate'])\n",
        "\n",
        "print(\"Net Income Forecast:\", net_income)"
      ],
      "metadata": {
        "colab": {
          "base_uri": "https://localhost:8080/"
        },
        "id": "yUJYCyK3Z6zD",
        "outputId": "2fd126ce-f387-4db8-a805-97b9752f7e1c"
      },
      "execution_count": null,
      "outputs": [
        {
          "output_type": "stream",
          "name": "stdout",
          "text": [
            "Net Income Forecast: [365976.0, 391390.56, 418329.9935999999, 446885.7932160001, 477154.94080895995]\n"
          ]
        }
      ]
    },
    {
      "cell_type": "code",
      "source": [
        "def calculate_fcf(net_incomes, depreciation, capex, working_capital):\n",
        "    fcfs = []\n",
        "    for net_income in net_incomes:\n",
        "        fcf = net_income + depreciation - capex - working_capital\n",
        "        fcfs.append(fcf)\n",
        "    return fcfs\n",
        "\n",
        "fcf = calculate_fcf(net_income, assumptions['depreciation'], assumptions['capex'], assumptions['working_capital'])\n",
        "print(\"Free Cash Flow Forecast:\", fcf)"
      ],
      "metadata": {
        "colab": {
          "base_uri": "https://localhost:8080/"
        },
        "id": "9sVzuR8EZ9vY",
        "outputId": "b85a47a6-9184-4d9d-9ac1-fddfbd654409"
      },
      "execution_count": null,
      "outputs": [
        {
          "output_type": "stream",
          "name": "stdout",
          "text": [
            "Free Cash Flow Forecast: [300976.0, 326390.56, 353329.9935999999, 381885.7932160001, 412154.94080896]\n"
          ]
        }
      ]
    },
    {
      "cell_type": "code",
      "source": [
        "def calculate_dcf(fcf, wacc):\n",
        "    dcf = sum([cf / (1 + wacc) ** i for i, cf in enumerate(fcf, start=1)])\n",
        "    return dcf\n",
        "\n",
        "dcf_value = calculate_dcf(fcf, wacc)\n",
        "print(f\"DCF Valuation: ${dcf_value:.2f}\")"
      ],
      "metadata": {
        "colab": {
          "base_uri": "https://localhost:8080/"
        },
        "id": "GSvXHAnFaLhG",
        "outputId": "4c0e7193-0766-4da7-b623-c557cd4b9461"
      },
      "execution_count": null,
      "outputs": [
        {
          "output_type": "stream",
          "name": "stdout",
          "text": [
            "DCF Valuation: $1441618.39\n"
          ]
        }
      ]
    },
    {
      "cell_type": "code",
      "source": [
        "def calculate_interest_expense(debt, interest_rate):\n",
        "    return debt * interest_rate\n",
        "\n",
        "interest_expense = calculate_interest_expense(assumptions['debt'], assumptions['cost_of_debt'])\n",
        "print(f\"Interest Expense: ${interest_expense:.2f}\")"
      ],
      "metadata": {
        "colab": {
          "base_uri": "https://localhost:8080/"
        },
        "id": "rUvfxCDDaN_S",
        "outputId": "acb0ece3-4a40-4755-c6c3-1ab49f50821d"
      },
      "execution_count": null,
      "outputs": [
        {
          "output_type": "stream",
          "name": "stdout",
          "text": [
            "Interest Expense: $30000.00\n"
          ]
        }
      ]
    },
    {
      "cell_type": "code",
      "source": [
        "def sensitivity_analysis(fcf, discount_rates):\n",
        "    for rate in discount_rates:\n",
        "        dcf_value = calculate_dcf(fcf, rate)\n",
        "        print(f\"DCF at {rate*100}% Discount Rate: ${dcf_value:.2f}\")\n",
        "\n",
        "sensitivity_analysis(fcf, [0.08, 0.10, 0.12])  # Test with 8%, 10%, 12% discount rates"
      ],
      "metadata": {
        "colab": {
          "base_uri": "https://localhost:8080/"
        },
        "id": "F_NGZLEbadgP",
        "outputId": "72c63235-455a-47d6-ae24-42cf7973ad90"
      },
      "execution_count": null,
      "outputs": [
        {
          "output_type": "stream",
          "name": "stdout",
          "text": [
            "DCF at 8.0% Discount Rate: $1400196.71\n",
            "DCF at 10.0% Discount Rate: $1325569.79\n",
            "DCF at 12.0% Discount Rate: $1256981.55\n"
          ]
        }
      ]
    },
    {
      "cell_type": "code",
      "source": [
        "df = pd.DataFrame({\n",
        "    'Year': list(range(1, 6)),\n",
        "    'Revenue': revenue,\n",
        "    'COGS': cogs,\n",
        "    'Operating Expenses': operating_expenses,\n",
        "    'Net Income': net_income,\n",
        "    'Free Cash Flow': fcf\n",
        "})\n",
        "\n",
        "print(df)\n"
      ],
      "metadata": {
        "colab": {
          "base_uri": "https://localhost:8080/"
        },
        "id": "sVMrQw5PalYG",
        "outputId": "802207bd-d852-486b-b335-c680a85d67d4"
      },
      "execution_count": null,
      "outputs": [
        {
          "output_type": "stream",
          "name": "stdout",
          "text": [
            "   Year       Revenue          COGS  Operating Expenses     Net Income  \\\n",
            "0     1  1.590000e+06  715500.00000       286200.000000  365976.000000   \n",
            "1     2  1.685400e+06  758430.00000       303372.000000  391390.560000   \n",
            "2     3  1.786524e+06  803935.80000       321574.320000  418329.993600   \n",
            "3     4  1.893715e+06  852171.94800       340868.779200  446885.793216   \n",
            "4     5  2.007338e+06  903302.26488       361320.905952  477154.940809   \n",
            "\n",
            "   Free Cash Flow  \n",
            "0   300976.000000  \n",
            "1   326390.560000  \n",
            "2   353329.993600  \n",
            "3   381885.793216  \n",
            "4   412154.940809  \n"
          ]
        }
      ]
    },
    {
      "cell_type": "code",
      "source": [],
      "metadata": {
        "id": "IY4vJuKratPl"
      },
      "execution_count": null,
      "outputs": []
    }
  ]
}